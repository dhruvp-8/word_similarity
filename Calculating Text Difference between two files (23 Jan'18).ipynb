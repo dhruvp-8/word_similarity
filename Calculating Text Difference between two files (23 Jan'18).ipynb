{
 "cells": [
  {
   "cell_type": "code",
   "execution_count": 4,
   "metadata": {},
   "outputs": [],
   "source": [
    "import re\n",
    "simple_text = \"\"\"A computer is a machine (mostly electronic) that is able to take information (input), and process it to make new information (output). Calculating machines have existed for much of human history. A computer is a programmable machine. The two principal characteristics of a computer are: It responds to a specific set of instructions in a well-defined manner and it can execute a prerecorded list of instructions (a program). Early examples are the astrolabe and the abacus. There are four main processing steps in a computer, and they are: inputting, storage, outputting and processing.\"\"\"\n",
    "complex_text = \"\"\"A computer is a device that can be instructed to carry out arbitrary sequences of arithmetic or logical operations automatically. The ability of computers to follow generalized sets of operations, called programs, enables them to perform an extremely wide range of tasks.\"\"\"\n"
   ]
  },
  {
   "cell_type": "code",
   "execution_count": 2,
   "metadata": {},
   "outputs": [
    {
     "name": "stdout",
     "output_type": "stream",
     "text": [
      "A computer is a machine (mostly electronic) that is able to take information (input), and process it to make new information (output). Calculating machines have existed for much of human history. A computer is a programmable machine. The two principal characteristics of a computer are: It responds to a specific set of instructions in a well-defined manner and it can execute a prerecorded list of instructions (a program). Early examples are the astrolabe and the abacus. There are four main processing steps in a computer, and they are: inputting, storage, outputting and processing.\n"
     ]
    }
   ],
   "source": [
    "print(simple_text)"
   ]
  },
  {
   "cell_type": "code",
   "execution_count": 3,
   "metadata": {},
   "outputs": [
    {
     "name": "stdout",
     "output_type": "stream",
     "text": [
      "A computer is a device that can be instructed to carry out arbitrary sequences of arithmetic or logical operations automatically. The ability of computers to follow generalized sets of operations, called programs, enables them to perform an extremely wide range of tasks.\n"
     ]
    }
   ],
   "source": [
    "print(complex_text)"
   ]
  },
  {
   "cell_type": "code",
   "execution_count": 109,
   "metadata": {},
   "outputs": [],
   "source": [
    "p = re.compile('[\\w\\d ]*')"
   ]
  },
  {
   "cell_type": "code",
   "execution_count": 110,
   "metadata": {},
   "outputs": [
    {
     "name": "stdout",
     "output_type": "stream",
     "text": [
      "<_sre.SRE_Match object; span=(0, 24), match='A computer is a machine '>\n"
     ]
    }
   ],
   "source": [
    "print(p.match(simple_text))"
   ]
  },
  {
   "cell_type": "code",
   "execution_count": 51,
   "metadata": {},
   "outputs": [
    {
     "name": "stdout",
     "output_type": "stream",
     "text": [
      "['A computer is a machine (mostly electronic) that is able to take information (input), and process it to make new information (output). Calculating machines have existed for much of human history. A computer is a programmable machine. The two principal characteristics of a computer are: It responds to a specific set of instructions in a well-defined manner and it can execute a prerecorded list of instructions (a program). Early examples are the astrolabe and the abacus. There are four main processing steps in a computer, and they are: inputting, storage, outputting and processing.']\n"
     ]
    }
   ],
   "source": [
    "print(p.findall(simple_text))"
   ]
  },
  {
   "cell_type": "code",
   "execution_count": null,
   "metadata": {},
   "outputs": [],
   "source": []
  }
 ],
 "metadata": {
  "kernelspec": {
   "display_name": "Python 3",
   "language": "python",
   "name": "python3"
  },
  "language_info": {
   "codemirror_mode": {
    "name": "ipython",
    "version": 3
   },
   "file_extension": ".py",
   "mimetype": "text/x-python",
   "name": "python",
   "nbconvert_exporter": "python",
   "pygments_lexer": "ipython3",
   "version": "3.4.4"
  }
 },
 "nbformat": 4,
 "nbformat_minor": 2
}
