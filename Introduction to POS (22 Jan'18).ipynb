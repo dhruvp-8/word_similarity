{
 "cells": [
  {
   "cell_type": "markdown",
   "metadata": {},
   "source": [
    "# Introduction to Parts of Speech\n",
    "*Note: This part will cover types of speech, basic sentence structure and abstract for sentence simplification.*\n",
    "\n",
    "## Types of Parts of Speech\n",
    "\n",
    "**1. Noun** - It is a name of person, place, thing or idea.\n",
    "\n",
    "**2. Pronoun** - Word used in place of noun. Eg:- she, we, he, they, it.\n",
    "\n",
    "**3. Verb** - Used to express action or being.\n",
    "\n",
    "**4. Adjective** - Modifies or describes a noun or pronoun. Furthermore they are **eight** different type of adjectives namely\n",
    "\n",
    "    A. Quantity\n",
    "    B. Quality\n",
    "    C. Size\n",
    "    D. Age\n",
    "    E. Shape\n",
    "    F. Colour\n",
    "    G. Origin\n",
    "    H. Material\n",
    "    \n",
    "  * **Note:** Ordering of this adjective types is very important for sentence construction\n",
    "    \n",
    "\n",
    "**5. Adverb** - Modifies or describes a verb, adjective or adverb.\n",
    "\n",
    "**6. Preposition** - Word placed before a noun or pronoun.\n",
    "\n",
    "**7. Conjuction** - Joins two sentences. Eg:- and, but, or, while.\n",
    "\n",
    "**8. Interjection** - Word used to describe emotion. Eg:- Wow!, Ahem!\n",
    "\n",
    "## Sentence Structuring\n",
    "\n",
    "*A sentence is typically constructed using **subject, predicate, object, indirect object and complement.** *"
   ]
  },
  {
   "cell_type": "code",
   "execution_count": null,
   "metadata": {},
   "outputs": [],
   "source": []
  }
 ],
 "metadata": {
  "kernelspec": {
   "display_name": "Python 3",
   "language": "python",
   "name": "python3"
  },
  "language_info": {
   "codemirror_mode": {
    "name": "ipython",
    "version": 3
   },
   "file_extension": ".py",
   "mimetype": "text/x-python",
   "name": "python",
   "nbconvert_exporter": "python",
   "pygments_lexer": "ipython3",
   "version": "3.4.4"
  }
 },
 "nbformat": 4,
 "nbformat_minor": 2
}
