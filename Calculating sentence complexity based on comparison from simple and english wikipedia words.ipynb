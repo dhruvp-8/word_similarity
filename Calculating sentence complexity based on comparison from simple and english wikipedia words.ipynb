{
 "cells": [
  {
   "cell_type": "code",
   "execution_count": 3,
   "metadata": {},
   "outputs": [
    {
     "name": "stdout",
     "output_type": "stream",
     "text": [
      "last decades life dukas became well known teacher composition many famous student\n"
     ]
    }
   ],
   "source": [
    "import os\n",
    "import string\n",
    "import nltk\n",
    "from nltk.tokenize import RegexpTokenizer\n",
    "from nltk.corpus import stopwords\n",
    "import re\n",
    "\n",
    "'''f preprocess(sentence):\n",
    "\tsentence = sentence.lower()\n",
    "\ttokenizer = RegexpTokenizer(r'\\w+')\n",
    "\ttokens = tokenizer.tokenize(sentence)\n",
    "\tfiltered_words = [w for w in tokens if not w in stopwords.words('english')]\n",
    "\treturn \" \".join(filtered_words)'''\n",
    "\n",
    "class MySentences(object):\n",
    "    def __init__(self, dirname):\n",
    "        self.dirname = dirname\n",
    "    def __iter__(self):\n",
    "        for line in open(os.path.join(self.dirname, \"simple.txt\"), encoding=\"utf8\"):\n",
    "            yield line.split()\n",
    "\n",
    "sentences = MySentences(r\"C:\\Users\\Meenakshi\\Desktop\\Notebooks\\text_simplify_c\")\n",
    "for sentence in sentences:\n",
    "    sent = ''\n",
    "    for t in range(2, len(sentence)):\n",
    "        sent += sentence[t] + \" \"    \n",
    "    del sentence[:]\n",
    "    sentence.append(sent)"
   ]
  },
  {
   "cell_type": "code",
   "execution_count": null,
   "metadata": {},
   "outputs": [],
   "source": []
  }
 ],
 "metadata": {
  "kernelspec": {
   "display_name": "Python 3",
   "language": "python",
   "name": "python3"
  },
  "language_info": {
   "codemirror_mode": {
    "name": "ipython",
    "version": 3
   },
   "file_extension": ".py",
   "mimetype": "text/x-python",
   "name": "python",
   "nbconvert_exporter": "python",
   "pygments_lexer": "ipython3",
   "version": "3.4.4"
  }
 },
 "nbformat": 4,
 "nbformat_minor": 2
}
