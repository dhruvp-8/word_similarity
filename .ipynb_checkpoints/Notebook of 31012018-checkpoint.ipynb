{
 "cells": [
  {
   "cell_type": "code",
   "execution_count": 11,
   "metadata": {},
   "outputs": [
    {
     "name": "stdout",
     "output_type": "stream",
     "text": [
      "became\n",
      "known\n"
     ]
    }
   ],
   "source": [
    "import nltk\n",
    "sentence = \"In the last decades of his life, dukas became well known as a teacher of composition, with many famous student\"\n",
    "tokens = nltk.word_tokenize(sentence)\n",
    "tagged = nltk.pos_tag(tokens)\n",
    "for i in range(0, len(tagged)):\n",
    "    if tagged[i][1] == 'VBD' or tagged[i][1] == 'VB' or tagged[i][1] == 'VBG' or tagged[i][1] == 'VBN' or tagged[i][1] == 'VBP' or tagged[i][1] == 'VBZ' :\n",
    "        print(tagged[i][0])"
   ]
  },
  {
   "cell_type": "code",
   "execution_count": 62,
   "metadata": {},
   "outputs": [
    {
     "name": "stdout",
     "output_type": "stream",
     "text": [
      "Ok\n",
      "Ok\n",
      "[{'description': 'Coordinating conjunction ', 'tag': 'CC'}, {'description': 'Cardinal number ', 'tag': 'CD'}, {'description': 'Determiner ', 'tag': 'DT'}, {'description': 'Existential there ', 'tag': 'EX'}, {'description': 'Foreign word ', 'tag': 'FW'}, {'description': 'Preposition or subordinating conjunction ', 'tag': 'IN'}, {'description': 'Adjective ', 'tag': 'JJ'}, {'description': 'Adjective , comparative ', 'tag': 'JJR'}, {'description': 'Adjective , superlative ', 'tag': 'JJS'}, {'description': 'List item marker ', 'tag': 'LS'}, {'description': 'Modal ', 'tag': 'MD'}, {'description': 'Noun , singular or mass ', 'tag': 'NN'}, {'description': 'Noun , plural ', 'tag': 'NNS'}, {'description': 'Proper noun , singular ', 'tag': 'NNP'}, {'description': 'Proper noun , plural ', 'tag': 'NNPS'}, {'description': 'Predeterminer ', 'tag': 'PDT'}, {'description': 'Possessive ending ', 'tag': 'POS'}, {'description': 'Personal pronoun ', 'tag': 'PRP'}, {'description': '$ Possessive pronoun ', 'tag': 'PRP'}, {'description': 'Adverb ', 'tag': 'RB'}, {'description': 'Adverb , comparative ', 'tag': 'RBR'}, {'description': 'Adverb , superlative ', 'tag': 'RBS'}, {'description': 'Particle ', 'tag': 'RP'}, {'description': 'Symbol ', 'tag': 'SYM'}, {'description': 'to ', 'tag': 'TO'}, {'description': 'Interjection ', 'tag': 'UH'}, {'description': 'Verb , base form ', 'tag': 'VB'}, {'description': 'Verb , past tense ', 'tag': 'VBD'}, {'description': 'Verb , gerund or present participle ', 'tag': 'VBG'}, {'description': 'Verb , past participle ', 'tag': 'VBN'}, {'description': 'Verb , non-3rd person singular present ', 'tag': 'VBP'}, {'description': 'Verb , 3rd person singular present ', 'tag': 'VBZ'}, {'description': 'Wh-determiner ', 'tag': 'WDT'}, {'description': 'Wh-pronoun ', 'tag': 'WP'}, {'description': '$ Possessive wh-pronoun ', 'tag': 'WP'}, {'description': 'Wh-adverb ', 'tag': 'WRB'}]\n"
     ]
    }
   ],
   "source": [
    "from bs4 import BeautifulSoup\n",
    "import urllib3\n",
    "import re\n",
    "import nltk\n",
    "urllib3.disable_warnings()\n",
    "http = urllib3.PoolManager()\n",
    "url = \"https://www.ling.upenn.edu/courses/Fall_2003/ling001/penn_treebank_pos.html\"\n",
    "response = http.request('GET', url)\n",
    "soup = BeautifulSoup(response.data, \"html5lib\")\n",
    "tds = soup.findAll(\"tr\", { \"bgcolor\": \"#FFFFCA\"}, \"td\")\n",
    "fin = []\n",
    "for td in tds:\n",
    "    tok1 = nltk.word_tokenize(td.text)\n",
    "    #print(tok1)\n",
    "    t = ''\n",
    "    for j in range(0, len(tok1)):\n",
    "        if tok1[j] == '$':\n",
    "            tok1[j-1] += tok1[j]\n",
    "            tok1[j] = ''\n",
    "    for o in range(3, len(tok1)):\n",
    "        t = t + tok1[o] + ' '\n",
    "    fin.append(dict({ 'tag': tok1[2], 'description': t}))\n",
    "print(fin)    "
   ]
  },
  {
   "cell_type": "code",
   "execution_count": null,
   "metadata": {},
   "outputs": [],
   "source": []
  }
 ],
 "metadata": {
  "kernelspec": {
   "display_name": "Python 3",
   "language": "python",
   "name": "python3"
  },
  "language_info": {
   "codemirror_mode": {
    "name": "ipython",
    "version": 3
   },
   "file_extension": ".py",
   "mimetype": "text/x-python",
   "name": "python",
   "nbconvert_exporter": "python",
   "pygments_lexer": "ipython3",
   "version": "3.4.4"
  }
 },
 "nbformat": 4,
 "nbformat_minor": 2
}
