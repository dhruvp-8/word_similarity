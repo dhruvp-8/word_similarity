{
 "cells": [
  {
   "cell_type": "code",
   "execution_count": 2,
   "metadata": {},
   "outputs": [],
   "source": [
    "import curses\n",
    "from curses.ascii import isdigit \n",
    "import nltk\n",
    "from nltk.corpus import cmudict \n",
    "d = cmudict.dict() \n",
    "def nsyl(word): \n",
    "    return [len(list(y for y in x if isdigit(y[-1]))) for x in d[word.lower()]] "
   ]
  },
  {
   "cell_type": "code",
   "execution_count": 3,
   "metadata": {},
   "outputs": [
    {
     "data": {
      "text/plain": [
       "[5]"
      ]
     },
     "execution_count": 3,
     "metadata": {},
     "output_type": "execute_result"
    }
   ],
   "source": [
    "nsyl('university')"
   ]
  },
  {
   "cell_type": "code",
   "execution_count": 6,
   "metadata": {},
   "outputs": [
    {
     "ename": "SyntaxError",
     "evalue": "invalid syntax (<ipython-input-6-90f019d15fe1>, line 4)",
     "output_type": "error",
     "traceback": [
      "\u001b[1;36m  File \u001b[1;32m\"<ipython-input-6-90f019d15fe1>\"\u001b[1;36m, line \u001b[1;32m4\u001b[0m\n\u001b[1;33m    return [ t += nsyl(tokens[i])[0] for i in range(0, len(tokens))]\u001b[0m\n\u001b[1;37m                ^\u001b[0m\n\u001b[1;31mSyntaxError\u001b[0m\u001b[1;31m:\u001b[0m invalid syntax\n"
     ]
    }
   ],
   "source": [
    "sentence = \"The cat perched on the mat\"\n",
    "tokens = nltk.word_tokenize(sentence)\n",
    "def count_syn_s(tokens):\n",
    "    return [ t = t + nsyl(tokens[i])[0] for i in range(0, len(tokens))]"
   ]
  },
  {
   "cell_type": "code",
   "execution_count": null,
   "metadata": {},
   "outputs": [],
   "source": []
  }
 ],
 "metadata": {
  "kernelspec": {
   "display_name": "Python 3",
   "language": "python",
   "name": "python3"
  },
  "language_info": {
   "codemirror_mode": {
    "name": "ipython",
    "version": 3
   },
   "file_extension": ".py",
   "mimetype": "text/x-python",
   "name": "python",
   "nbconvert_exporter": "python",
   "pygments_lexer": "ipython3",
   "version": "3.4.4"
  }
 },
 "nbformat": 4,
 "nbformat_minor": 2
}
