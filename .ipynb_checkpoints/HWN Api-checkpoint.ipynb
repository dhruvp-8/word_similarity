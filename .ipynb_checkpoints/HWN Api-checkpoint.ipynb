{
 "cells": [
  {
   "cell_type": "code",
   "execution_count": 31,
   "metadata": {},
   "outputs": [],
   "source": [
    "from pyiwn import pyiwn\n",
    "import nltk"
   ]
  },
  {
   "cell_type": "code",
   "execution_count": 32,
   "metadata": {},
   "outputs": [],
   "source": [
    "iwn = pyiwn.IndoWordNet('hindi')    "
   ]
  },
  {
   "cell_type": "code",
   "execution_count": 35,
   "metadata": {},
   "outputs": [],
   "source": [
    "sentence = \"पेड़-पौधे आदि के तनों में से निकले हुए वे बड़े हिस्से जिनमें फल, फूल आदि लगते हैं\"\n",
    "tokens = nltk.word_tokenize(sentence)"
   ]
  },
  {
   "cell_type": "code",
   "execution_count": 36,
   "metadata": {},
   "outputs": [
    {
     "name": "stdout",
     "output_type": "stream",
     "text": [
      "['पेड़-पौधे', 'आदि', 'के', 'तनों', 'में', 'से', 'निकले', 'हुए', 'वे', 'बड़े', 'हिस्से', 'जिनमें', 'फल', ',', 'फूल', 'आदि', 'लगते', 'हैं']\n"
     ]
    }
   ],
   "source": [
    "print(tokens)"
   ]
  },
  {
   "cell_type": "code",
   "execution_count": 42,
   "metadata": {},
   "outputs": [
    {
     "name": "stdout",
     "output_type": "stream",
     "text": [
      "1 . पेड़-पौधे\n",
      "-----------------\n",
      "Not found.\n",
      "------------------\n",
      "2 . आदि\n",
      "-----------------\n",
      "Synset('आरंभ.noun.151') noun\n",
      "Not found.\n",
      "------------------\n",
      "3 . के\n",
      "-----------------\n",
      "Not found.\n",
      "------------------\n",
      "4 . तनों\n",
      "-----------------\n",
      "Not found.\n",
      "------------------\n",
      "5 . में\n",
      "-----------------\n",
      "Synset('में में.noun.23048') noun\n",
      "Not found.\n",
      "------------------\n",
      "6 . से\n",
      "-----------------\n",
      "Synset('अपेक्षाकृत.adverb.8220') adverb\n",
      "Not found.\n",
      "------------------\n",
      "7 . निकले\n",
      "-----------------\n",
      "Not found.\n",
      "------------------\n",
      "8 . हुए\n",
      "-----------------\n",
      "Not found.\n",
      "------------------\n",
      "9 . वे\n",
      "-----------------\n",
      "Synset('वेनिज़ुएलाई.noun.19996') noun\n",
      "Not found.\n",
      "------------------\n",
      "10 . बड़े\n",
      "-----------------\n",
      "Not found.\n",
      "------------------\n",
      "11 . हिस्से\n",
      "-----------------\n",
      "Not found.\n",
      "------------------\n",
      "12 . जिनमें\n",
      "-----------------\n",
      "Not found.\n",
      "------------------\n",
      "13 . फल\n",
      "-----------------\n",
      "Synset('फल.noun.662') noun\n",
      "Synset('नतीजा.noun.2035') noun\n",
      "Synset('जायफल.noun.2931') noun\n",
      "Synset('फल.noun.4314') noun\n",
      "Synset('ढाल.noun.5175') noun\n",
      "Synset('ब्याज.noun.7350') noun\n",
      "Synset('बोर्ड.noun.10826') noun\n",
      "Synset('राशिफल.noun.38346') noun\n",
      "Synset('फल.noun.38347') noun\n",
      "------------------\n",
      "14 . ,\n",
      "-----------------\n",
      "------------------\n",
      "15 . फूल\n",
      "-----------------\n",
      "Synset('रज.noun.3906') noun\n",
      "Synset('फूल.noun.4422') noun\n",
      "Synset('गर्भाशय.noun.4520') noun\n",
      "Synset('फूल.noun.8018') noun\n",
      "Synset('फूली.noun.11732') noun\n",
      "Synset('गुल.noun.12980') noun\n",
      "Synset('फूलदार वनस्पति.noun.20972') noun\n",
      "Synset('फूल.noun.30563') noun\n",
      "Synset('फूल.noun.30564') noun\n",
      "Synset('चक्की.noun.33401') noun\n",
      "Synset('फूल.noun.37278') noun\n",
      "------------------\n",
      "16 . आदि\n",
      "-----------------\n",
      "Synset('आरंभ.noun.151') noun\n",
      "Not found.\n",
      "------------------\n",
      "17 . लगते\n",
      "-----------------\n",
      "Not found.\n",
      "------------------\n",
      "18 . हैं\n",
      "-----------------\n",
      "Not found.\n",
      "------------------\n"
     ]
    }
   ],
   "source": [
    "l = 0\n",
    "for t in tokens:\n",
    "    l = l + 1\n",
    "    temp = iwn.synsets(t)\n",
    "    print(l, \".\",  t)\n",
    "    print(\"-----------------\")\n",
    "    for i in range(0, len(temp)):\n",
    "        if(i == 0):\n",
    "            print(\"Not found.\")\n",
    "        else:    \n",
    "            print(temp[i], temp[i].pos())\n",
    "    print(\"------------------\")\n"
   ]
  },
  {
   "cell_type": "code",
   "execution_count": null,
   "metadata": {},
   "outputs": [],
   "source": []
  },
  {
   "cell_type": "code",
   "execution_count": null,
   "metadata": {},
   "outputs": [],
   "source": []
  }
 ],
 "metadata": {
  "kernelspec": {
   "display_name": "Python 3",
   "language": "python",
   "name": "python3"
  },
  "language_info": {
   "codemirror_mode": {
    "name": "ipython",
    "version": 3
   },
   "file_extension": ".py",
   "mimetype": "text/x-python",
   "name": "python",
   "nbconvert_exporter": "python",
   "pygments_lexer": "ipython3",
   "version": "3.4.4"
  }
 },
 "nbformat": 4,
 "nbformat_minor": 2
}
