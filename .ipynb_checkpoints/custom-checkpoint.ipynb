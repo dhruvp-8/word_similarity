{
 "cells": [
  {
   "cell_type": "code",
   "execution_count": 1,
   "metadata": {},
   "outputs": [
    {
     "name": "stdout",
     "output_type": "stream",
     "text": [
      "[nltk_data] Downloading package punkt to\n",
      "[nltk_data]     C:\\Users\\Meenakshi\\AppData\\Roaming\\nltk_data...\n",
      "[nltk_data]   Package punkt is already up-to-date!\n"
     ]
    }
   ],
   "source": [
    "import nltk\n",
    "nltk.download(\"punkt\")\n",
    "sentence = \"He is a royal . The king is a man . The king has a queen.\"\n",
    "to = nltk.word_tokenize(sentence)"
   ]
  },
  {
   "cell_type": "code",
   "execution_count": 4,
   "metadata": {},
   "outputs": [
    {
     "name": "stdout",
     "output_type": "stream",
     "text": [
      "[['He', 'is'], ['is', 'He'], ['is', 'a'], ['a', 'He'], ['a', 'is'], ['a', 'royal'], ['royal', 'is'], ['royal', 'a'], ['The', 'king'], ['king', 'The'], ['king', 'is'], ['is', 'The'], ['is', 'king'], ['is', 'a'], ['a', 'king'], ['a', 'is'], ['a', 'man'], ['man', 'is'], ['man', 'a'], ['The', 'king'], ['king', 'The'], ['king', 'has'], ['has', 'The'], ['has', 'king'], ['has', 'a'], ['a', 'king'], ['a', 'has'], ['a', 'queen'], ['queen', 'has'], ['queen', 'a']]\n"
     ]
    }
   ],
   "source": [
    "ts = set(to)\n",
    "tm = list(ts)\n",
    "t = []\n",
    "for i in range(0, len(tm)):\n",
    "    if tm[i] != \".\":\n",
    "        t.append(tm[i])\n",
    "sent = sentence.split('.')\n",
    "\n",
    "markers= []\n",
    "for js in sent:\n",
    "        markers.append(js.split())\n",
    "#markers.remove([])\n",
    "del markers[-1]\n",
    "k = []\n",
    "for sent in markers:\n",
    "    for word_index, word in enumerate(sent):\n",
    "        for n_word in sent[max(word_index-2,0):min(word_index+2,len(sent)+1)]:\n",
    "            if n_word != word:\n",
    "                k.append([word, n_word])\n",
    "\n",
    "w2i = {}\n",
    "i2w = {}\n",
    "print(t,\n",
    "      k)\n",
    "for i in range(0, len(t)):\n",
    "    w2i[t[i]] = i\n",
    "    i2w[i] = t[i]\n",
    "\n",
    "hot = []\n",
    "for i in range(0, len(t)):\n",
    "    new_arr = [0]*len(t)\n",
    "    x = w2i[t[i]]\n",
    "    new_arr[x] = 1\n",
    "    hot.append(new_arr)"
   ]
  },
  {
   "cell_type": "code",
   "execution_count": null,
   "metadata": {},
   "outputs": [],
   "source": []
  }
 ],
 "metadata": {
  "kernelspec": {
   "display_name": "Python 3",
   "language": "python",
   "name": "python3"
  },
  "language_info": {
   "codemirror_mode": {
    "name": "ipython",
    "version": 3
   },
   "file_extension": ".py",
   "mimetype": "text/x-python",
   "name": "python",
   "nbconvert_exporter": "python",
   "pygments_lexer": "ipython3",
   "version": "3.6.4"
  }
 },
 "nbformat": 4,
 "nbformat_minor": 2
}
